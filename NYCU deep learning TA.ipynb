{
 "cells": [
  {
   "cell_type": "markdown",
   "id": "5f2180f8",
   "metadata": {},
   "source": [
    "## Group for challenge 0"
   ]
  },
  {
   "cell_type": "code",
   "execution_count": 13,
   "id": "b6f96acf",
   "metadata": {},
   "outputs": [
    {
     "name": "stdout",
     "output_type": "stream",
     "text": [
      "Number of students: 29\n",
      "Number of leaders: 8\n"
     ]
    },
    {
     "data": {
      "text/plain": [
       "[[110511081, 109951140, 110652005, 111514013],\n",
       " [109951204, 111705068, 110612120, 109704033],\n",
       " [111705021, 109511293, 109511147, 109951001],\n",
       " [111514027, 111705086, 111704053, 110511321],\n",
       " [109612029, 110511271, 110612012, 110511078],\n",
       " [111550126, 110511127, 111705013],\n",
       " [110511236, 111511132, 111514025],\n",
       " [111613013, 110511124, 110511120]]"
      ]
     },
     "execution_count": 13,
     "metadata": {},
     "output_type": "execute_result"
    }
   ],
   "source": [
    "import random\n",
    "\n",
    "student = [\n",
    "    110652005, 109704033, 110511078, 110511271, 111705068, 111514013,\n",
    "    110511124, 109511147, 111511132, 111514027, 109511293, 109612029, 110511081, 110511127,\n",
    "    110511236, 111514025, 109951140, 111550126, 109951204, 110612120, 111613013,\n",
    "    111704053, 110612012, 111705086,\n",
    "    110511321, 110511120, 109951001, 111705021, 111705013\n",
    "]\n",
    "\n",
    "leaders = [111550203, 110101013, 111550198, 110511091, 111511311, 111705015, 111550193, 111511292]\n",
    "\n",
    "print(\"Number of students: \"+ str(len(student)))\n",
    "print(\"Number of leaders: \" + str(len(leaders)))\n",
    "\n",
    "# Shuffle the student list to ensure randomness\n",
    "random.shuffle(student)\n",
    "\n",
    "# Splitting the students into 8 groups\n",
    "groups = [[] for _ in range(8)]  # Initialize 8 empty groups\n",
    "\n",
    "for i, student_id in enumerate(student):\n",
    "    groups[i % 8].append(student_id)  # Distribute students into groups\n",
    "\n",
    "# Display the groups\n",
    "groups"
   ]
  },
  {
   "cell_type": "code",
   "execution_count": 14,
   "id": "dd14f60f",
   "metadata": {},
   "outputs": [
    {
     "data": {
      "text/plain": [
       "{111550203: [110511081, 109951140, 110652005, 111514013],\n",
       " 110101013: [109951204, 111705068, 110612120, 109704033],\n",
       " 111550198: [111705021, 109511293, 109511147, 109951001],\n",
       " 110511091: [111514027, 111705086, 111704053, 110511321],\n",
       " 111511311: [109612029, 110511271, 110612012, 110511078],\n",
       " 111705015: [111550126, 110511127, 111705013],\n",
       " 111550193: [110511236, 111511132, 111514025],\n",
       " 111511292: [111613013, 110511124, 110511120]}"
      ]
     },
     "execution_count": 14,
     "metadata": {},
     "output_type": "execute_result"
    }
   ],
   "source": [
    "team = {111550203: [110511081, 109951140, 110652005, 111514013],\n",
    "        110101013: [109951204, 111705068, 110612120, 109704033],\n",
    "        111550198: [111705021, 109511293, 109511147, 109951001],\n",
    "        110511091: [111514027, 111705086, 111704053, 110511321],\n",
    "        111511311: [109612029, 110511271, 110612012, 110511078],\n",
    "        111705015: [111550126, 110511127, 111705013],\n",
    "        111550193: [110511236, 111511132, 111514025],\n",
    "        111511292: [111613013, 110511124, 110511120]}\n",
    "\n",
    "team"
   ]
  },
  {
   "cell_type": "code",
   "execution_count": null,
   "id": "801830d8",
   "metadata": {},
   "outputs": [],
   "source": [
    "team1 = [\"timothy.voitekh@gmail.com\", \"rainingoff.ee10@nycu.edu.tw\", \"williamsue0331@gmail.com\",\n",
    "         \"jjredick365@gmail.com\", \"kaiwy58@gmail.com\"]\n",
    "\n",
    "team2 = [\"linjimmy1003.md10@nycu.edu.tw\", \"sam387602@gmail.com\", \"ziyiw1930@gmail.com\",\n",
    "         \"raytsai912@gmail.com\", \"willie103006@gmail.com\"]\n",
    "\n",
    "team3 = [\"linstelll.cs11@nycu.edu.tw\", \"yoo8210739@gmail.com\", \"denaialopetegui@gmail.com \",\n",
    "         \"superivan2002@gmail.com\", \"strayorion333@gmail.com\"]\n",
    "\n",
    "team4 = [\"johnsontsai0425@gmail.com\", \"mark20040123.ee11@nycu.edu.tw\", \"h237k77777@gmail.com\",\n",
    "         \"kiwi3741722.mg11@nycu.edu.tw\", \"zihaoliew2002@gmail.com\"]\n",
    "\n",
    "team5 = [\"joseph.syu.ee11@nycu.edu.tw\", \"kuotzuwei15@gmail.com\", \"nicholas9237@gmail.com\",\n",
    "         \"vincent.en10@nycu.edu.tw\", \"icelin0130@gmail.com\"]\n",
    "\n",
    "team6 = [\"1107supersam@gmail.com\", \"yfchin.cs11@nycu.edu.tw\",\n",
    "         \"jwchiu.ee10@nycu.edu.tw\", \"ahankeu90@gmail.com\", \"bastianreynard@gmail.com\"]\n",
    "\n",
    "team7 = [\"emmy.cs11@nycu.edu.tw\", \"rayhsu19@gmail.com\", \n",
    "         \"martin99097.ee11@nycu.edu.tw\", \"waynelee.ee11@nycu.edu.tw\"]\n",
    "\n",
    "team8 = [\"mingkamol.ee11@nycu.edu.tw\", \"apply921123@gmail.com\",\n",
    "         \"huberlee1.ee10@nycu.edu.tw\", \"hua20020212.ee10@nycu.edu.tw\"]\n"
   ]
  },
  {
   "cell_type": "markdown",
   "id": "66e89e61",
   "metadata": {},
   "source": [
    "## Group for Challenge 1"
   ]
  },
  {
   "cell_type": "code",
   "execution_count": 4,
   "id": "28ef5e96",
   "metadata": {},
   "outputs": [
    {
     "name": "stdout",
     "output_type": "stream",
     "text": [
      "Number of students: 30\n",
      "Number of leaders: 8\n"
     ]
    },
    {
     "data": {
      "text/plain": [
       "[[111514013, 111705021, 111705013, 111613013],\n",
       " [110511236, 111514027, 109951204, 110612120],\n",
       " [111705068, 110511078, 109951001, 110511120],\n",
       " [110511271, 111704053, 110652005, 110511124],\n",
       " [110612012, 111550126, 111511132, 109511147],\n",
       " [109511293, 111514025, 110511127, 110511081],\n",
       " [109612029, 111705086, 110511321],\n",
       " [109951140, 109704033, '田隆生']]"
      ]
     },
     "execution_count": 4,
     "metadata": {},
     "output_type": "execute_result"
    }
   ],
   "source": [
    "import random\n",
    "\n",
    "student = [\n",
    "    110652005, 109704033, 110511078, 110511271, 111705068, 111514013,\n",
    "    110511124, 109511147, 111511132, 111514027, 109511293, 109612029, 110511081, 110511127,\n",
    "    110511236, 111514025, 109951140, 111550126, 109951204, 110612120, 111613013,\n",
    "    111704053, 110612012, 111705086,\n",
    "    110511321, 110511120, 109951001, 111705021, 111705013, '田隆生'\n",
    "]\n",
    "\n",
    "leaders = [111550203, 110101013, 111550198, 110511091, 111511311, 111705015, 111550193, 111511292]\n",
    "\n",
    "print(\"Number of students: \"+ str(len(student)))\n",
    "print(\"Number of leaders: \" + str(len(leaders)))\n",
    "\n",
    "# Shuffle the student list to ensure randomness\n",
    "random.shuffle(student)\n",
    "\n",
    "# Splitting the students into 8 groups\n",
    "groups = [[] for _ in range(8)]  # Initialize 8 empty groups\n",
    "\n",
    "for i, student_id in enumerate(student):\n",
    "    groups[i % 8].append(student_id)  # Distribute students into groups\n",
    "\n",
    "# Display the groups\n",
    "groups"
   ]
  },
  {
   "cell_type": "code",
   "execution_count": 1,
   "id": "98868541",
   "metadata": {},
   "outputs": [
    {
     "data": {
      "text/plain": [
       "{111550203: [111514013, 111705021, 111705013, 111613013],\n",
       " 110101013: [111514027, 109951204, 110511236],\n",
       " 111550198: [111705068, 110511078, 110511120],\n",
       " 110511091: [110511271, 111704053, 110652005, 110511124],\n",
       " 111511311: [111550126, 111511132, 109511147],\n",
       " 111705015: [109511293, 111514025, 110511127, 110511081],\n",
       " 111511292: [109951001, 109612029, 111705086, 110511321, 109951140]}"
      ]
     },
     "execution_count": 1,
     "metadata": {},
     "output_type": "execute_result"
    }
   ],
   "source": [
    "team = {111550203: [111514013, 111705021, 111705013, 111613013],\n",
    "        110101013: [111514027, 109951204, 110511236],\n",
    "        111550198: [111705068, 110511078, 110511120],        \n",
    "        110511091: [110511271, 111704053, 110652005, 110511124],\n",
    "        111511311: [111550126, 111511132, 109511147],\n",
    "        111705015: [109511293, 111514025, 110511127, 110511081],\n",
    "        111511292: [109951001, 109612029, 111705086, 110511321, 109951140]\n",
    "        }\n",
    "\n",
    "team"
   ]
  },
  {
   "cell_type": "code",
   "execution_count": 7,
   "id": "8b85ba79",
   "metadata": {},
   "outputs": [],
   "source": [
    "# OK\n",
    "team1 = [\"timothy.voitekh@gmail.com\", \"kaiwy58@gmail.com\", \"yoo8210739@gmail.com\",\n",
    "         \"ahankeu90@gmail.com\", \"apply921123@gmail.com\"]\n",
    "# OK\n",
    "team2 = [\"linjimmy1003.md10@nycu.edu.tw\", \"mark20040123.ee11@nycu.edu.tw\", \n",
    "        \"sam387602@gmail.com\", \"rayhsu19@gmail.com\"]\n",
    "# OK\n",
    "team3 = [\"linstelll.cs11@nycu.edu.tw\", \"ziyiw1930@gmail.com\", \n",
    "         \"icelin0130@gmail.com\", \"hua20020212.ee10@nycu.edu.tw\"]\n",
    "# OK\n",
    "team4 = [\"johnsontsai0425@gmail.com\", \"nicholas9237@gmail.com\", \"kiwi3741722.mg11@nycu.edu.tw\",\n",
    "        \"jjredick365@gmail.com\", \"huberlee1.ee10@nycu.edu.tw\"]\n",
    "# OK\n",
    "team5 = [\"joseph.syu.ee11@nycu.edu.tw\", \"yfchin.cs11@nycu.edu.tw\", \"martin99097.ee11@nycu.edu.tw\",\n",
    "        \"superivan2002@gmail.com\"]\n",
    "# OK\n",
    "team6 = [\"1107supersam@gmail.com\", \"denaialopetegui@gmail.com\", \"waynelee.ee11@nycu.edu.tw\",\n",
    "        \"jwchiu.ee10@nycu.edu.tw\", \"rainingoff.ee10@nycu.edu.tw\"]\n",
    "# OK\n",
    "team7 = [\"mingkamol.ee11@nycu.edu.tw\", \"strayorion333@gmail.com\", \"kuotzuwei15@gmail.com\", \"h237k77777@gmail.com\", \n",
    "         \"zihaoliew2002@gmail.com\", \"williamsue0331@gmail.com\"]"
   ]
  },
  {
   "cell_type": "markdown",
   "id": "94137136",
   "metadata": {},
   "source": [
    "## Group for Challenge 2"
   ]
  },
  {
   "cell_type": "code",
   "execution_count": 4,
   "id": "e153d46a",
   "metadata": {},
   "outputs": [
    {
     "name": "stdout",
     "output_type": "stream",
     "text": [
      "Number of students: 26\n",
      "Number of leaders: 7\n"
     ]
    },
    {
     "data": {
      "text/plain": [
       "[[111550126, 109511293, 110511120, 110511078],\n",
       " [111613013, 111514027, 109951204, 111514013],\n",
       " [111705021, 111705013, 111511132, 109612029],\n",
       " [109511147, 111704053, 111514025, 111705086],\n",
       " [110511127, 110511081, 111705068, 110652005],\n",
       " [109951001, 110511124, 110511321],\n",
       " [110612120, 109951140, 110511271]]"
      ]
     },
     "execution_count": 4,
     "metadata": {},
     "output_type": "execute_result"
    }
   ],
   "source": [
    "import random\n",
    "student = [\n",
    "     111514013, 111705021, 111705013, 111613013,\n",
    "     111514027, 109951204, 110612120,\n",
    "     111705068, 110511078, 110511120,\n",
    "     110511271, 111704053, 110652005, 110511124,\n",
    "     111550126, 111511132, 109511147,\n",
    "     109511293, 111514025, 110511127, 110511081,\n",
    "     109951001, 109612029, 111705086, 110511321, 109951140\n",
    "]\n",
    "\n",
    "leaders = [111550203, 110101013, 111550198, 110511091, 111511311, 111705015, 111511292]\n",
    "\n",
    "print(\"Number of students: \"+ str(len(student)))\n",
    "print(\"Number of leaders: \" + str(len(leaders)))\n",
    "\n",
    "# Shuffle the student list to ensure randomness\n",
    "random.shuffle(student)\n",
    "\n",
    "# Splitting the students into 8 groups\n",
    "groups = [[] for _ in range(7)]  # Initialize 7 empty groups\n",
    "\n",
    "for i, student_id in enumerate(student):\n",
    "    groups[i % 7].append(student_id)  # Distribute students into groups\n",
    "\n",
    "# Display the groups\n",
    "groups"
   ]
  },
  {
   "cell_type": "code",
   "execution_count": 1,
   "id": "ed736616",
   "metadata": {},
   "outputs": [
    {
     "data": {
      "text/plain": [
       "{111550203: [111550126, 109511293, 110511120, 110511078],\n",
       " 110101013: [111613013, 111514027, 109951204, 111514013],\n",
       " 111550198: [111705021, 111705013, 111511132, 109612029],\n",
       " 110511091: [109511147, 111704053, 111514025, 111705086],\n",
       " 111511311: [110511127, 110511081, 111705068, 110652005],\n",
       " 111705015: [109951001, 110511124, 110511321, 110511236],\n",
       " 111511292: [110612120, 109951140, 110511271]}"
      ]
     },
     "execution_count": 1,
     "metadata": {},
     "output_type": "execute_result"
    }
   ],
   "source": [
    "team = {\n",
    "    111550203: [111550126, 109511293, 110511120, 110511078],\n",
    "    110101013: [111613013, 111514027, 109951204, 111514013],\n",
    "    111550198: [111705021, 111705013, 111511132, 109612029],\n",
    "    110511091: [109511147, 111704053, 111514025, 111705086],\n",
    "    111511311: [110511127, 110511081, 111705068, 110652005],\n",
    "    111705015: [109951001, 110511124, 110511321, 110511236],\n",
    "    111511292: [110612120, 109951140, 110511271]\n",
    "}\n",
    "team"
   ]
  },
  {
   "cell_type": "code",
   "execution_count": null,
   "id": "2e6e1c4f",
   "metadata": {},
   "outputs": [],
   "source": [
    "# \n",
    "team1 = [\"timothy.voitekh@gmail.com\", \"yfchin.cs11@nycu.edu.tw\", \"denaialopetegui@gmail.com \",\n",
    "         \"hua20020212.ee10@nycu.edu.tw\", \"icelin0130@gmail.com\"]\n",
    "# \n",
    "team2 = [\"linjimmy1003.md10@nycu.edu.tw\", \"apply921123@gmail.com\", \"mark20040123.ee11@nycu.edu.tw\" \n",
    "        \"sam387602@gmail.com\", \"kaiwy58@gmail.com\"]\n",
    "# \n",
    "team3 = [\"linstelll.cs11@nycu.edu.tw\", \"yoo8210739@gmail.com\", \"ahankeu90@gmail.com\", \n",
    "         \"martin99097.ee11@nycu.edu.tw\", \"kuotzuwei15@gmail.com\"]\n",
    "# \n",
    "team4 = [\"johnsontsai0425@gmail.com\", \"superivan2002@gmail.com\", \"kiwi3741722.mg11@nycu.edu.tw\",\n",
    "        \"waynelee.ee11@nycu.edu.tw\", \"h237k77777@gmail.com\"]\n",
    "# \n",
    "team5 = [\"joseph.syu.ee11@nycu.edu.tw\", \"jwchiu.ee10@nycu.edu.tw\", \"rainingoff.ee10@nycu.edu.tw\",\n",
    "        \"ziyiw1930@gmail.com\", \"jjredick365@gmail.com\"]\n",
    "# \n",
    "team6 = [\"1107supersam@gmail.com\", \"strayorion333@gmail.com\",\n",
    "        \"huberlee1.ee10@nycu.edu.tw\", \"zihaoliew2002@gmail.com\", 'rayhsu19@gmail.com']\n",
    "# \n",
    "team7 = [\"mingkamol.ee11@nycu.edu.tw\", \"raytsai912@gmail.com\",\n",
    "         \"williamsue0331@gmail.com\", \"nicholas9237@gmail.com\"]"
   ]
  }
 ],
 "metadata": {
  "kernelspec": {
   "display_name": "Python 3 (ipykernel)",
   "language": "python",
   "name": "python3"
  },
  "language_info": {
   "codemirror_mode": {
    "name": "ipython",
    "version": 3
   },
   "file_extension": ".py",
   "mimetype": "text/x-python",
   "name": "python",
   "nbconvert_exporter": "python",
   "pygments_lexer": "ipython3",
   "version": "3.11.5"
  }
 },
 "nbformat": 4,
 "nbformat_minor": 5
}
